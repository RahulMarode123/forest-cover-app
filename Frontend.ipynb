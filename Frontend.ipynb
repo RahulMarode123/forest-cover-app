{
 "cells": [
  {
   "cell_type": "code",
   "execution_count": 1,
   "id": "c5fe2061-7637-49df-afd4-86068399459f",
   "metadata": {},
   "outputs": [
    {
     "name": "stderr",
     "output_type": "stream",
     "text": [
      "2025-07-27 14:12:22.064 WARNING streamlit.runtime.scriptrunner_utils.script_run_context: Thread 'MainThread': missing ScriptRunContext! This warning can be ignored when running in bare mode.\n",
      "2025-07-27 14:12:22.064 WARNING streamlit.runtime.scriptrunner_utils.script_run_context: Thread 'MainThread': missing ScriptRunContext! This warning can be ignored when running in bare mode.\n",
      "2025-07-27 14:12:22.339 \n",
      "  \u001b[33m\u001b[1mWarning:\u001b[0m to view this Streamlit app on a browser, run it with the following\n",
      "  command:\n",
      "\n",
      "    streamlit run C:\\Users\\ASUS\\anaconda3\\Lib\\site-packages\\ipykernel_launcher.py [ARGUMENTS]\n",
      "2025-07-27 14:12:22.340 Thread 'MainThread': missing ScriptRunContext! This warning can be ignored when running in bare mode.\n",
      "2025-07-27 14:12:22.340 Thread 'MainThread': missing ScriptRunContext! This warning can be ignored when running in bare mode.\n",
      "2025-07-27 14:12:22.341 Thread 'MainThread': missing ScriptRunContext! This warning can be ignored when running in bare mode.\n",
      "2025-07-27 14:12:22.341 Thread 'MainThread': missing ScriptRunContext! This warning can be ignored when running in bare mode.\n",
      "2025-07-27 14:12:22.341 Thread 'MainThread': missing ScriptRunContext! This warning can be ignored when running in bare mode.\n",
      "2025-07-27 14:12:22.342 Session state does not function when running a script without `streamlit run`\n",
      "2025-07-27 14:12:22.342 Thread 'MainThread': missing ScriptRunContext! This warning can be ignored when running in bare mode.\n",
      "2025-07-27 14:12:22.343 Thread 'MainThread': missing ScriptRunContext! This warning can be ignored when running in bare mode.\n",
      "2025-07-27 14:12:22.344 Thread 'MainThread': missing ScriptRunContext! This warning can be ignored when running in bare mode.\n",
      "2025-07-27 14:12:22.344 Thread 'MainThread': missing ScriptRunContext! This warning can be ignored when running in bare mode.\n",
      "2025-07-27 14:12:22.345 Thread 'MainThread': missing ScriptRunContext! This warning can be ignored when running in bare mode.\n",
      "2025-07-27 14:12:22.345 Thread 'MainThread': missing ScriptRunContext! This warning can be ignored when running in bare mode.\n",
      "2025-07-27 14:12:22.345 Thread 'MainThread': missing ScriptRunContext! This warning can be ignored when running in bare mode.\n",
      "2025-07-27 14:12:22.346 Thread 'MainThread': missing ScriptRunContext! This warning can be ignored when running in bare mode.\n"
     ]
    },
    {
     "data": {
      "text/plain": [
       "DeltaGenerator()"
      ]
     },
     "execution_count": 1,
     "metadata": {},
     "output_type": "execute_result"
    }
   ],
   "source": [
    "import streamlit as st\n",
    "import cv2\n",
    "import numpy as np\n",
    "from PIL import Image\n",
    "import tempfile\n",
    "\n",
    "# --- Functions ---\n",
    "def detect_green_HSV(image):\n",
    "    hsv = cv2.cvtColor(image, cv2.COLOR_BGR2HSV)\n",
    "    lower = np.array([35, 40, 20])\n",
    "    upper = np.array([85, 255, 255])\n",
    "    mask = cv2.inRange(hsv, lower, upper)\n",
    "    return mask\n",
    "\n",
    "def percent_forest(mask):\n",
    "    total = mask.size\n",
    "    green = cv2.countNonZero(mask)\n",
    "    return round((green / total) * 100, 2)\n",
    "\n",
    "# --- Page Setup ---\n",
    "st.set_page_config(page_title=\"Forest Cover App\", layout=\"centered\")\n",
    "\n",
    "# --- Sidebar Navigation ---\n",
    "st.sidebar.title(\"🌳 Forest Cover Segmentation\")\n",
    "menu = st.sidebar.radio(\"Navigation\", [\"Home\", \"Upload Image\", \"About\"])\n",
    "\n",
    "# --- Home Page ---\n",
    "if menu == \"Home\":\n",
    "    st.markdown(\"\"\"\n",
    "        <h1 style='text-align: center; color: green;'>🌲 Forest Cover Segmentation App</h1>\n",
    "        <p style='text-align: center;'>Analyze forest cover in satellite images using computer vision</p>\n",
    "    \"\"\", unsafe_allow_html=True)\n",
    "\n",
    "# --- Upload Image Page ---\n",
    "elif menu == \"Upload Image\":\n",
    "    st.header(\"📁 Upload Satellite Image\")\n",
    "    uploaded_file = st.file_uploader(\"Choose a PNG/JPG/JPEG image\", type=[\"png\", \"jpg\", \"jpeg\"])\n",
    "\n",
    "    if uploaded_file:\n",
    "        # Save the uploaded file\n",
    "        with tempfile.NamedTemporaryFile(delete=False) as temp_file:\n",
    "            temp_file.write(uploaded_file.read())\n",
    "            img_path = temp_file.name\n",
    "\n",
    "        image = cv2.imread(img_path)\n",
    "\n",
    "        with st.spinner(\"Processing image...\"):\n",
    "            segmented = detect_green_HSV(image)\n",
    "            ratio = percent_forest(segmented)\n",
    "\n",
    "        col1, col2 = st.columns(2)\n",
    "\n",
    "        with col1:\n",
    "            st.image(cv2.cvtColor(image, cv2.COLOR_BGR2RGB), caption=\"Original Image\", use_column_width=True)\n",
    "        with col2:\n",
    "            st.image(segmented, caption=f\"Segmented Green Area: {ratio}%\", use_column_width=True, clamp=True)\n",
    "\n",
    "# --- About Page ---\n",
    "elif menu == \"About\":\n",
    "    st.header(\"ℹ️ About\")\n",
    "    st.write(\"\"\"\n",
    "    This web app was developed to visually analyze and estimate forest cover in satellite images.\n",
    "\n",
    "    **Technologies Used:**\n",
    "    - Python\n",
    "    - OpenCV (cv2)\n",
    "    - Streamlit\n",
    "    - NumPy\n",
    "\n",
    "    Created with ❤️ by **Rahul Marode**.\n",
    "    GitHub: [@RahulMarode123](https://github.com/RahulMarode123)\n",
    "    \"\"\")\n",
    "\n",
    "# --- Footer ---\n",
    "st.markdown(\"---\")\n",
    "st.markdown(\"Built with ❤️ using Streamlit | © 2025 Rahul Marode\")\n"
   ]
  }
 ],
 "metadata": {
  "kernelspec": {
   "display_name": "Python [conda env:base] *",
   "language": "python",
   "name": "conda-base-py"
  },
  "language_info": {
   "codemirror_mode": {
    "name": "ipython",
    "version": 3
   },
   "file_extension": ".py",
   "mimetype": "text/x-python",
   "name": "python",
   "nbconvert_exporter": "python",
   "pygments_lexer": "ipython3",
   "version": "3.13.5"
  }
 },
 "nbformat": 4,
 "nbformat_minor": 5
}
